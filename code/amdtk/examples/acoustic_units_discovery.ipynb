{
 "cells": [
  {
   "cell_type": "markdown",
   "metadata": {},
   "source": [
    "# Acoustic Unit Discovery\n",
    "\n",
    "## Settings\n",
    "\n",
    "Beside the basic imports, we use [Bokeh](http://bokeh.pydata.org/en/latest/) for plotting and [ipyparallel](https://github.com/ipython/ipyparallel) for parallelization of the training. *Bokeh* can be replaced with your favorite plotting tool but *ipyparallel* is a required dependency for [AMDTK](https://github.com/iondel/amdtk/)."
   ]
  },
  {
   "cell_type": "code",
   "execution_count": 1,
   "metadata": {
    "collapsed": false
   },
   "outputs": [
    {
     "data": {
      "text/html": [
       "\n",
       "    <div class=\"bk-root\">\n",
       "        <a href=\"http://bokeh.pydata.org\" target=\"_blank\" class=\"bk-logo bk-logo-small bk-logo-notebook\"></a>\n",
       "        <span id=\"7cc9bc0c-51bb-4735-bd01-bc5d87c4e7e9\">Loading BokehJS ...</span>\n",
       "    </div>"
      ]
     },
     "metadata": {},
     "output_type": "display_data"
    },
    {
     "data": {
      "application/javascript": [
       "\n",
       "(function(global) {\n",
       "  function now() {\n",
       "    return new Date();\n",
       "  }\n",
       "\n",
       "  var force = true;\n",
       "\n",
       "  if (typeof (window._bokeh_onload_callbacks) === \"undefined\" || force === true) {\n",
       "    window._bokeh_onload_callbacks = [];\n",
       "    window._bokeh_is_loading = undefined;\n",
       "  }\n",
       "\n",
       "\n",
       "  \n",
       "  if (typeof (window._bokeh_timeout) === \"undefined\" || force === true) {\n",
       "    window._bokeh_timeout = Date.now() + 5000;\n",
       "    window._bokeh_failed_load = false;\n",
       "  }\n",
       "\n",
       "  var NB_LOAD_WARNING = {'data': {'text/html':\n",
       "     \"<div style='background-color: #fdd'>\\n\"+\n",
       "     \"<p>\\n\"+\n",
       "     \"BokehJS does not appear to have successfully loaded. If loading BokehJS from CDN, this \\n\"+\n",
       "     \"may be due to a slow or bad network connection. Possible fixes:\\n\"+\n",
       "     \"</p>\\n\"+\n",
       "     \"<ul>\\n\"+\n",
       "     \"<li>re-rerun `output_notebook()` to attempt to load from CDN again, or</li>\\n\"+\n",
       "     \"<li>use INLINE resources instead, as so:</li>\\n\"+\n",
       "     \"</ul>\\n\"+\n",
       "     \"<code>\\n\"+\n",
       "     \"from bokeh.resources import INLINE\\n\"+\n",
       "     \"output_notebook(resources=INLINE)\\n\"+\n",
       "     \"</code>\\n\"+\n",
       "     \"</div>\"}};\n",
       "\n",
       "  function display_loaded() {\n",
       "    if (window.Bokeh !== undefined) {\n",
       "      var el = document.getElementById(\"7cc9bc0c-51bb-4735-bd01-bc5d87c4e7e9\");\n",
       "      el.textContent = \"BokehJS \" + Bokeh.version + \" successfully loaded.\";\n",
       "    } else if (Date.now() < window._bokeh_timeout) {\n",
       "      setTimeout(display_loaded, 100)\n",
       "    }\n",
       "  }\n",
       "\n",
       "  function run_callbacks() {\n",
       "    window._bokeh_onload_callbacks.forEach(function(callback) { callback() });\n",
       "    delete window._bokeh_onload_callbacks\n",
       "    console.info(\"Bokeh: all callbacks have finished\");\n",
       "  }\n",
       "\n",
       "  function load_libs(js_urls, callback) {\n",
       "    window._bokeh_onload_callbacks.push(callback);\n",
       "    if (window._bokeh_is_loading > 0) {\n",
       "      console.log(\"Bokeh: BokehJS is being loaded, scheduling callback at\", now());\n",
       "      return null;\n",
       "    }\n",
       "    if (js_urls == null || js_urls.length === 0) {\n",
       "      run_callbacks();\n",
       "      return null;\n",
       "    }\n",
       "    console.log(\"Bokeh: BokehJS not loaded, scheduling load and callback at\", now());\n",
       "    window._bokeh_is_loading = js_urls.length;\n",
       "    for (var i = 0; i < js_urls.length; i++) {\n",
       "      var url = js_urls[i];\n",
       "      var s = document.createElement('script');\n",
       "      s.src = url;\n",
       "      s.async = false;\n",
       "      s.onreadystatechange = s.onload = function() {\n",
       "        window._bokeh_is_loading--;\n",
       "        if (window._bokeh_is_loading === 0) {\n",
       "          console.log(\"Bokeh: all BokehJS libraries loaded\");\n",
       "          run_callbacks()\n",
       "        }\n",
       "      };\n",
       "      s.onerror = function() {\n",
       "        console.warn(\"failed to load library \" + url);\n",
       "      };\n",
       "      console.log(\"Bokeh: injecting script tag for BokehJS library: \", url);\n",
       "      document.getElementsByTagName(\"head\")[0].appendChild(s);\n",
       "    }\n",
       "  };var element = document.getElementById(\"7cc9bc0c-51bb-4735-bd01-bc5d87c4e7e9\");\n",
       "  if (element == null) {\n",
       "    console.log(\"Bokeh: ERROR: autoload.js configured with elementid '7cc9bc0c-51bb-4735-bd01-bc5d87c4e7e9' but no matching script tag was found. \")\n",
       "    return false;\n",
       "  }\n",
       "\n",
       "  var js_urls = [\"https://cdn.pydata.org/bokeh/release/bokeh-0.12.5.min.js\", \"https://cdn.pydata.org/bokeh/release/bokeh-widgets-0.12.5.min.js\"];\n",
       "\n",
       "  var inline_js = [\n",
       "    function(Bokeh) {\n",
       "      Bokeh.set_log_level(\"info\");\n",
       "    },\n",
       "    \n",
       "    function(Bokeh) {\n",
       "      \n",
       "    },\n",
       "    \n",
       "    function(Bokeh) {\n",
       "      \n",
       "      document.getElementById(\"7cc9bc0c-51bb-4735-bd01-bc5d87c4e7e9\").textContent = \"BokehJS is loading...\";\n",
       "    },\n",
       "    function(Bokeh) {\n",
       "      console.log(\"Bokeh: injecting CSS: https://cdn.pydata.org/bokeh/release/bokeh-0.12.5.min.css\");\n",
       "      Bokeh.embed.inject_css(\"https://cdn.pydata.org/bokeh/release/bokeh-0.12.5.min.css\");\n",
       "      console.log(\"Bokeh: injecting CSS: https://cdn.pydata.org/bokeh/release/bokeh-widgets-0.12.5.min.css\");\n",
       "      Bokeh.embed.inject_css(\"https://cdn.pydata.org/bokeh/release/bokeh-widgets-0.12.5.min.css\");\n",
       "    }\n",
       "  ];\n",
       "\n",
       "  function run_inline_js() {\n",
       "    \n",
       "    if ((window.Bokeh !== undefined) || (force === true)) {\n",
       "      for (var i = 0; i < inline_js.length; i++) {\n",
       "        inline_js[i](window.Bokeh);\n",
       "      }if (force === true) {\n",
       "        display_loaded();\n",
       "      }} else if (Date.now() < window._bokeh_timeout) {\n",
       "      setTimeout(run_inline_js, 100);\n",
       "    } else if (!window._bokeh_failed_load) {\n",
       "      console.log(\"Bokeh: BokehJS failed to load within specified timeout.\");\n",
       "      window._bokeh_failed_load = true;\n",
       "    } else if (force !== true) {\n",
       "      var cell = $(document.getElementById(\"7cc9bc0c-51bb-4735-bd01-bc5d87c4e7e9\")).parents('.cell').data().cell;\n",
       "      cell.output_area.append_execute_result(NB_LOAD_WARNING)\n",
       "    }\n",
       "\n",
       "  }\n",
       "\n",
       "  if (window._bokeh_is_loading === 0) {\n",
       "    console.log(\"Bokeh: BokehJS loaded, going straight to plotting\");\n",
       "    run_inline_js();\n",
       "  } else {\n",
       "    load_libs(js_urls, function() {\n",
       "      console.log(\"Bokeh: BokehJS plotting callback run at\", now());\n",
       "      run_inline_js();\n",
       "    });\n",
       "  }\n",
       "}(this));"
      ]
     },
     "metadata": {},
     "output_type": "display_data"
    }
   ],
   "source": [
    "# Basic imports\n",
    "import glob\n",
    "import os\n",
    "import numpy as np\n",
    "\n",
    "from bokeh.plotting import show\n",
    "from bokeh.io import output_notebook\n",
    "from bokeh.plotting import figure\n",
    "from bokeh.layouts import gridplot\n",
    "\n",
    "from ipyparallel import Client\n",
    "\n",
    "import amdtk\n",
    "\n",
    "output_notebook()"
   ]
  },
  {
   "cell_type": "markdown",
   "metadata": {},
   "source": [
    "We expect the features to be stored in [HTK format](http://www1.icsi.berkeley.edu/Speech/docs/HTKBook/node67_mn.html) with the \".fea\" extension. Sometimes, it is convenient to load only a portion of the features (to remove the silence at the beginning and at the end of the utterance for instance). This can be achieved by appending \"[start_frame: end_frame]\" to the path of the file as in this example:\n",
    "```\n",
    "fname = '/path/to/features.fea'\n",
    "fname_vad = fname + '[10:100]'\n",
    "data = amdtk.read_htk(data)\n",
    "```"
   ]
  },
  {
   "cell_type": "code",
   "execution_count": 2,
   "metadata": {
    "collapsed": false
   },
   "outputs": [],
   "source": [
    "train_fea = []\n",
    "train_fea_mask = '/export/b01/londel/data/timit/train/mfcc_d_dd/*fea'\n",
    "train_fea = [fname for fname in glob.glob(train_fea_mask)]"
   ]
  },
  {
   "cell_type": "markdown",
   "metadata": {},
   "source": [
    "The next cell is a bash command to start the *ipyparallel* cluster. Please refer to the [ipyparallel](https://github.com/ipython/ipyparallel) documentation on how to setup the cluster for your environment. Also do not forget to shutdown the server once your experiment is done (see the last cell). The ```sleep 10``` command is just to give some time to the server to start. If the next command failed, it might be because the server didn't finish its initialization though 10 seconds should be enough for most of the configurations."
   ]
  },
  {
   "cell_type": "code",
   "execution_count": 3,
   "metadata": {
    "collapsed": true
   },
   "outputs": [],
   "source": [
    "%%bash\n",
    "ipcluster start --profile default -n 4 --daemonize\n",
    "sleep 10"
   ]
  },
  {
   "cell_type": "markdown",
   "metadata": {},
   "source": [
    "Connect a client to the *ipyparallel* cluster. "
   ]
  },
  {
   "cell_type": "code",
   "execution_count": 4,
   "metadata": {
    "collapsed": false
   },
   "outputs": [
    {
     "name": "stdout",
     "output_type": "stream",
     "text": [
      "Connected to 4 jobs.\n"
     ]
    }
   ],
   "source": [
    "profile = 'default'\n",
    "rc = Client(profile=profile)\n",
    "dview = rc[:]\n",
    "print('Connected to', len(dview), 'jobs.')"
   ]
  },
  {
   "cell_type": "markdown",
   "metadata": {},
   "source": [
    "Estimate the mean and the variance (per dimension) of the database. We need this statistics to perform mean/variance normalization during the training."
   ]
  },
  {
   "cell_type": "code",
   "execution_count": 5,
   "metadata": {
    "collapsed": false
   },
   "outputs": [],
   "source": [
    "def collect_data_stats(filename):\n",
    "    \"\"\"Job to collect the statistics.\"\"\"\n",
    "    # We  re-import this module here because this code will run\n",
    "    # remotely.\n",
    "    import amdtk\n",
    "    data = amdtk.read_htk(filename)\n",
    "    stats_0 = data.shape[0]\n",
    "    stats_1 = data.sum(axis=0)\n",
    "    stats_2 = (data**2).sum(axis=0)\n",
    "    retval = (\n",
    "        stats_0,\n",
    "        stats_1,\n",
    "        stats_2\n",
    "    )\n",
    "    return retval\n",
    "\n",
    "data_stats = dview.map_sync(collect_data_stats, train_fea)\n",
    "\n",
    "# Accumulate the statistics over all the utterances.\n",
    "n_frames = data_stats[0][0]\n",
    "mean = data_stats[0][1]\n",
    "var = data_stats[0][2]\n",
    "for stats_0, stats_1, stats_2 in data_stats[1:]:\n",
    "    n_frames += stats_0\n",
    "    mean += stats_1\n",
    "    var += stats_2\n",
    "mean /= n_frames\n",
    "var = (var / n_frames) - mean**2\n",
    "\n",
    "data_stats = {\n",
    "    'count': n_frames,\n",
    "    'mean': mean,\n",
    "    'var': var\n",
    "}"
   ]
  },
  {
   "cell_type": "markdown",
   "metadata": {},
   "source": [
    "## Training\n",
    "\n",
    "Now everything is ready for the training. First we need to create the phone-loop model. Currently, AMDTK also support Bayesian GMM though this model is usually less accurate."
   ]
  },
  {
   "cell_type": "code",
   "execution_count": 12,
   "metadata": {
    "collapsed": false
   },
   "outputs": [],
   "source": [
    "model = amdtk.PhoneLoop.create(\n",
    "    50,  # number of acoustic units\n",
    "    3,   # number of state per units\n",
    "    4,   # number of Gaussian per emission\n",
    "    np.zeros_like(data_stats['mean']), \n",
    "    np.ones_like(data_stats['var'])\n",
    ")\n",
    "\n",
    "#model = amdtk.Mixture.create(\n",
    "#    200, # Number of Gaussian in the mixture.\n",
    "#    np.zeros_like(data_stats['mean']), \n",
    "#    np.ones_like(data_stats['var'])\n",
    "#)"
   ]
  },
  {
   "cell_type": "markdown",
   "metadata": {},
   "source": [
    "For the phone-loop and the GMM model optimization is done with the natural gradient descent. "
   ]
  },
  {
   "cell_type": "code",
   "execution_count": 13,
   "metadata": {
    "collapsed": false,
    "scrolled": true
   },
   "outputs": [
    {
     "name": "stdout",
     "output_type": "stream",
     "text": [
      "importing numpy on engine(s)\n",
      "importing read_htk from amdtk on engine(s)\n",
      "elbo=-56.5566328365 time=8.593787908554077\n",
      "elbo=-14.1031220954 time=20.582109212875366\n",
      "elbo=-12.5753157747 time=30.459877490997314\n",
      "elbo=-11.5505482394 time=39.285534620285034\n",
      "elbo=-11.0342283998 time=48.01591348648071\n",
      "elbo=-10.8456383645 time=56.67512345314026\n",
      "elbo=-10.4921731025 time=66.60939908027649\n",
      "elbo=-10.2476414589 time=78.52076363563538\n",
      "elbo=-10.129937982 time=89.22719550132751\n",
      "elbo=-9.86354920331 time=98.42179369926453\n",
      "elbo=-9.89226565155 time=107.38587403297424\n",
      "elbo=-9.90614775256 time=116.20546579360962\n",
      "elbo=-9.81106819924 time=124.36762809753418\n",
      "elbo=-9.66167876416 time=133.76361846923828\n",
      "elbo=-9.47948858995 time=142.89569425582886\n",
      "elbo=-9.83214248345 time=152.61892127990723\n",
      "elbo=-9.61092792308 time=162.17830276489258\n",
      "elbo=-9.51989204334 time=171.72391533851624\n",
      "elbo=-9.67699826227 time=181.61188173294067\n",
      "elbo=-9.34195037291 time=190.10213232040405\n",
      "elbo=-9.71515063454 time=198.66300630569458\n",
      "elbo=-9.49702321922 time=207.46203780174255\n",
      "elbo=-9.30862369391 time=218.7180643081665\n",
      "elbo=-9.62885212511 time=227.0126006603241\n"
     ]
    },
    {
     "data": {
      "text/html": [
       "\n",
       "\n",
       "    <div class=\"bk-root\">\n",
       "        <div class=\"bk-plotdiv\" id=\"d658326f-940a-4ce8-b0f7-b9e34bcd3c06\"></div>\n",
       "    </div>\n",
       "<script type=\"text/javascript\">\n",
       "  \n",
       "  (function(global) {\n",
       "    function now() {\n",
       "      return new Date();\n",
       "    }\n",
       "  \n",
       "    var force = false;\n",
       "  \n",
       "    if (typeof (window._bokeh_onload_callbacks) === \"undefined\" || force === true) {\n",
       "      window._bokeh_onload_callbacks = [];\n",
       "      window._bokeh_is_loading = undefined;\n",
       "    }\n",
       "  \n",
       "  \n",
       "    \n",
       "    if (typeof (window._bokeh_timeout) === \"undefined\" || force === true) {\n",
       "      window._bokeh_timeout = Date.now() + 0;\n",
       "      window._bokeh_failed_load = false;\n",
       "    }\n",
       "  \n",
       "    var NB_LOAD_WARNING = {'data': {'text/html':\n",
       "       \"<div style='background-color: #fdd'>\\n\"+\n",
       "       \"<p>\\n\"+\n",
       "       \"BokehJS does not appear to have successfully loaded. If loading BokehJS from CDN, this \\n\"+\n",
       "       \"may be due to a slow or bad network connection. Possible fixes:\\n\"+\n",
       "       \"</p>\\n\"+\n",
       "       \"<ul>\\n\"+\n",
       "       \"<li>re-rerun `output_notebook()` to attempt to load from CDN again, or</li>\\n\"+\n",
       "       \"<li>use INLINE resources instead, as so:</li>\\n\"+\n",
       "       \"</ul>\\n\"+\n",
       "       \"<code>\\n\"+\n",
       "       \"from bokeh.resources import INLINE\\n\"+\n",
       "       \"output_notebook(resources=INLINE)\\n\"+\n",
       "       \"</code>\\n\"+\n",
       "       \"</div>\"}};\n",
       "  \n",
       "    function display_loaded() {\n",
       "      if (window.Bokeh !== undefined) {\n",
       "        var el = document.getElementById(\"d658326f-940a-4ce8-b0f7-b9e34bcd3c06\");\n",
       "        el.textContent = \"BokehJS \" + Bokeh.version + \" successfully loaded.\";\n",
       "      } else if (Date.now() < window._bokeh_timeout) {\n",
       "        setTimeout(display_loaded, 100)\n",
       "      }\n",
       "    }\n",
       "  \n",
       "    function run_callbacks() {\n",
       "      window._bokeh_onload_callbacks.forEach(function(callback) { callback() });\n",
       "      delete window._bokeh_onload_callbacks\n",
       "      console.info(\"Bokeh: all callbacks have finished\");\n",
       "    }\n",
       "  \n",
       "    function load_libs(js_urls, callback) {\n",
       "      window._bokeh_onload_callbacks.push(callback);\n",
       "      if (window._bokeh_is_loading > 0) {\n",
       "        console.log(\"Bokeh: BokehJS is being loaded, scheduling callback at\", now());\n",
       "        return null;\n",
       "      }\n",
       "      if (js_urls == null || js_urls.length === 0) {\n",
       "        run_callbacks();\n",
       "        return null;\n",
       "      }\n",
       "      console.log(\"Bokeh: BokehJS not loaded, scheduling load and callback at\", now());\n",
       "      window._bokeh_is_loading = js_urls.length;\n",
       "      for (var i = 0; i < js_urls.length; i++) {\n",
       "        var url = js_urls[i];\n",
       "        var s = document.createElement('script');\n",
       "        s.src = url;\n",
       "        s.async = false;\n",
       "        s.onreadystatechange = s.onload = function() {\n",
       "          window._bokeh_is_loading--;\n",
       "          if (window._bokeh_is_loading === 0) {\n",
       "            console.log(\"Bokeh: all BokehJS libraries loaded\");\n",
       "            run_callbacks()\n",
       "          }\n",
       "        };\n",
       "        s.onerror = function() {\n",
       "          console.warn(\"failed to load library \" + url);\n",
       "        };\n",
       "        console.log(\"Bokeh: injecting script tag for BokehJS library: \", url);\n",
       "        document.getElementsByTagName(\"head\")[0].appendChild(s);\n",
       "      }\n",
       "    };var element = document.getElementById(\"d658326f-940a-4ce8-b0f7-b9e34bcd3c06\");\n",
       "    if (element == null) {\n",
       "      console.log(\"Bokeh: ERROR: autoload.js configured with elementid 'd658326f-940a-4ce8-b0f7-b9e34bcd3c06' but no matching script tag was found. \")\n",
       "      return false;\n",
       "    }\n",
       "  \n",
       "    var js_urls = [];\n",
       "  \n",
       "    var inline_js = [\n",
       "      function(Bokeh) {\n",
       "        (function() {\n",
       "          var fn = function() {\n",
       "            var docs_json = {\"d920bf02-deb1-40b7-a2f8-875524fb0441\":{\"roots\":{\"references\":[{\"attributes\":{\"plot\":{\"id\":\"ae2f4e6d-6e58-483c-8f19-20697faa503f\",\"subtype\":\"Figure\",\"type\":\"Plot\"}},\"id\":\"9a815dde-f14b-4378-a020-320dad5e5918\",\"type\":\"ResetTool\"},{\"attributes\":{\"plot\":{\"id\":\"ae2f4e6d-6e58-483c-8f19-20697faa503f\",\"subtype\":\"Figure\",\"type\":\"Plot\"}},\"id\":\"42b27c12-8da5-489d-93a3-46390e9f9210\",\"type\":\"HelpTool\"},{\"attributes\":{},\"id\":\"986dae08-3b75-4e11-a0ba-081bad4aaf45\",\"type\":\"ToolEvents\"},{\"attributes\":{\"plot\":{\"id\":\"ae2f4e6d-6e58-483c-8f19-20697faa503f\",\"subtype\":\"Figure\",\"type\":\"Plot\"}},\"id\":\"225d21f9-3a40-4558-a95b-8a22e0aac548\",\"type\":\"WheelZoomTool\"},{\"attributes\":{\"callback\":null},\"id\":\"0b94c61a-b3b5-4a41-94e7-042602a1cbaa\",\"type\":\"DataRange1d\"},{\"attributes\":{\"below\":[{\"id\":\"ce39f08a-fbd6-4ce1-ae6d-78e80c28591c\",\"type\":\"LinearAxis\"}],\"left\":[{\"id\":\"684d8023-08e1-4607-884a-e93c782225f4\",\"type\":\"LinearAxis\"}],\"plot_height\":400,\"plot_width\":400,\"renderers\":[{\"id\":\"ce39f08a-fbd6-4ce1-ae6d-78e80c28591c\",\"type\":\"LinearAxis\"},{\"id\":\"969e24e5-9f08-44ac-ad1d-e4a687d6c007\",\"type\":\"Grid\"},{\"id\":\"684d8023-08e1-4607-884a-e93c782225f4\",\"type\":\"LinearAxis\"},{\"id\":\"d1420c1c-ffad-4bc8-9b30-da2811f5cb82\",\"type\":\"Grid\"},{\"id\":\"0ddb8527-319b-4846-99c2-09f18885d159\",\"type\":\"BoxAnnotation\"},{\"id\":\"1e14419a-5e52-4099-86ec-29aaf72d22d1\",\"type\":\"GlyphRenderer\"}],\"title\":{\"id\":\"7d75676e-41f0-47f3-8759-297acfb8d761\",\"type\":\"Title\"},\"tool_events\":{\"id\":\"986dae08-3b75-4e11-a0ba-081bad4aaf45\",\"type\":\"ToolEvents\"},\"toolbar\":{\"id\":\"c3a686e5-02d6-41bb-bd57-f3c54964090c\",\"type\":\"Toolbar\"},\"x_range\":{\"id\":\"62f55956-0ff0-4bda-abfc-b56733a45c11\",\"type\":\"DataRange1d\"},\"y_range\":{\"id\":\"0b94c61a-b3b5-4a41-94e7-042602a1cbaa\",\"type\":\"DataRange1d\"}},\"id\":\"ae2f4e6d-6e58-483c-8f19-20697faa503f\",\"subtype\":\"Figure\",\"type\":\"Plot\"},{\"attributes\":{\"axis_label\":\"time (s)\",\"formatter\":{\"id\":\"409d56c9-2774-40e2-93e5-f6edf9e47a9a\",\"type\":\"BasicTickFormatter\"},\"plot\":{\"id\":\"ae2f4e6d-6e58-483c-8f19-20697faa503f\",\"subtype\":\"Figure\",\"type\":\"Plot\"},\"ticker\":{\"id\":\"1caa6924-19df-4012-8dcf-57d11395e5bb\",\"type\":\"BasicTicker\"}},\"id\":\"ce39f08a-fbd6-4ce1-ae6d-78e80c28591c\",\"type\":\"LinearAxis\"},{\"attributes\":{\"plot\":{\"id\":\"ae2f4e6d-6e58-483c-8f19-20697faa503f\",\"subtype\":\"Figure\",\"type\":\"Plot\"}},\"id\":\"a4e4c12e-71e9-4ff9-9fb4-29eefb71d51b\",\"type\":\"SaveTool\"},{\"attributes\":{\"overlay\":{\"id\":\"0ddb8527-319b-4846-99c2-09f18885d159\",\"type\":\"BoxAnnotation\"},\"plot\":{\"id\":\"ae2f4e6d-6e58-483c-8f19-20697faa503f\",\"subtype\":\"Figure\",\"type\":\"Plot\"}},\"id\":\"dcf58509-90d3-4804-a54b-c5d69fc6681f\",\"type\":\"BoxZoomTool\"},{\"attributes\":{},\"id\":\"409d56c9-2774-40e2-93e5-f6edf9e47a9a\",\"type\":\"BasicTickFormatter\"},{\"attributes\":{\"bottom_units\":\"screen\",\"fill_alpha\":{\"value\":0.5},\"fill_color\":{\"value\":\"lightgrey\"},\"left_units\":\"screen\",\"level\":\"overlay\",\"line_alpha\":{\"value\":1.0},\"line_color\":{\"value\":\"black\"},\"line_dash\":[4,4],\"line_width\":{\"value\":2},\"plot\":null,\"render_mode\":\"css\",\"right_units\":\"screen\",\"top_units\":\"screen\"},\"id\":\"0ddb8527-319b-4846-99c2-09f18885d159\",\"type\":\"BoxAnnotation\"},{\"attributes\":{\"callback\":null},\"id\":\"62f55956-0ff0-4bda-abfc-b56733a45c11\",\"type\":\"DataRange1d\"},{\"attributes\":{\"line_alpha\":{\"value\":0.1},\"line_color\":{\"value\":\"#1f77b4\"},\"x\":{\"field\":\"x\"},\"y\":{\"field\":\"y\"}},\"id\":\"6d139034-ae2c-4438-99c0-053818d38308\",\"type\":\"Line\"},{\"attributes\":{\"line_color\":{\"value\":\"#1f77b4\"},\"x\":{\"field\":\"x\"},\"y\":{\"field\":\"y\"}},\"id\":\"65f28b82-e06f-458a-a301-5bd941d2464e\",\"type\":\"Line\"},{\"attributes\":{\"plot\":null,\"text\":\"\"},\"id\":\"7d75676e-41f0-47f3-8759-297acfb8d761\",\"type\":\"Title\"},{\"attributes\":{},\"id\":\"1caa6924-19df-4012-8dcf-57d11395e5bb\",\"type\":\"BasicTicker\"},{\"attributes\":{\"data_source\":{\"id\":\"1e3da22a-fe4c-4826-a705-ae1119dd9824\",\"type\":\"ColumnDataSource\"},\"glyph\":{\"id\":\"65f28b82-e06f-458a-a301-5bd941d2464e\",\"type\":\"Line\"},\"hover_glyph\":null,\"muted_glyph\":null,\"nonselection_glyph\":{\"id\":\"6d139034-ae2c-4438-99c0-053818d38308\",\"type\":\"Line\"},\"selection_glyph\":null},\"id\":\"1e14419a-5e52-4099-86ec-29aaf72d22d1\",\"type\":\"GlyphRenderer\"},{\"attributes\":{\"plot\":{\"id\":\"ae2f4e6d-6e58-483c-8f19-20697faa503f\",\"subtype\":\"Figure\",\"type\":\"Plot\"},\"ticker\":{\"id\":\"1caa6924-19df-4012-8dcf-57d11395e5bb\",\"type\":\"BasicTicker\"}},\"id\":\"969e24e5-9f08-44ac-ad1d-e4a687d6c007\",\"type\":\"Grid\"},{\"attributes\":{\"axis_label\":\"ELBO\",\"formatter\":{\"id\":\"2bd34cd2-62f3-40b6-9ed6-52d67dcd8d4d\",\"type\":\"BasicTickFormatter\"},\"plot\":{\"id\":\"ae2f4e6d-6e58-483c-8f19-20697faa503f\",\"subtype\":\"Figure\",\"type\":\"Plot\"},\"ticker\":{\"id\":\"51bcc533-592e-4baf-8635-940797724426\",\"type\":\"BasicTicker\"}},\"id\":\"684d8023-08e1-4607-884a-e93c782225f4\",\"type\":\"LinearAxis\"},{\"attributes\":{\"active_drag\":\"auto\",\"active_scroll\":\"auto\",\"active_tap\":\"auto\",\"tools\":[{\"id\":\"380865ec-0fd8-46bd-9b5f-13ec86870465\",\"type\":\"PanTool\"},{\"id\":\"225d21f9-3a40-4558-a95b-8a22e0aac548\",\"type\":\"WheelZoomTool\"},{\"id\":\"dcf58509-90d3-4804-a54b-c5d69fc6681f\",\"type\":\"BoxZoomTool\"},{\"id\":\"a4e4c12e-71e9-4ff9-9fb4-29eefb71d51b\",\"type\":\"SaveTool\"},{\"id\":\"9a815dde-f14b-4378-a020-320dad5e5918\",\"type\":\"ResetTool\"},{\"id\":\"42b27c12-8da5-489d-93a3-46390e9f9210\",\"type\":\"HelpTool\"}]},\"id\":\"c3a686e5-02d6-41bb-bd57-f3c54964090c\",\"type\":\"Toolbar\"},{\"attributes\":{\"plot\":{\"id\":\"ae2f4e6d-6e58-483c-8f19-20697faa503f\",\"subtype\":\"Figure\",\"type\":\"Plot\"}},\"id\":\"380865ec-0fd8-46bd-9b5f-13ec86870465\",\"type\":\"PanTool\"},{\"attributes\":{},\"id\":\"2bd34cd2-62f3-40b6-9ed6-52d67dcd8d4d\",\"type\":\"BasicTickFormatter\"},{\"attributes\":{\"dimension\":1,\"plot\":{\"id\":\"ae2f4e6d-6e58-483c-8f19-20697faa503f\",\"subtype\":\"Figure\",\"type\":\"Plot\"},\"ticker\":{\"id\":\"51bcc533-592e-4baf-8635-940797724426\",\"type\":\"BasicTicker\"}},\"id\":\"d1420c1c-ffad-4bc8-9b30-da2811f5cb82\",\"type\":\"Grid\"},{\"attributes\":{},\"id\":\"51bcc533-592e-4baf-8635-940797724426\",\"type\":\"BasicTicker\"},{\"attributes\":{\"callback\":null,\"column_names\":[\"x\",\"y\"],\"data\":{\"x\":[0,1,2,3,4,5,6,7,8,9,10,11,12,13,14,15,16,17,18,19,20,21,22,23],\"y\":[-56.55663283647908,-14.103122095428693,-12.575315774680416,-11.550548239408855,-11.034228399837321,-10.845638364519148,-10.492173102543044,-10.247641458892197,-10.129937982048503,-9.863549203312347,-9.892265651552844,-9.906147752563323,-9.811068199244358,-9.661678764157793,-9.479488589953753,-9.832142483453381,-9.610927923076527,-9.519892043337512,-9.676998262270873,-9.341950372913223,-9.715150634536466,-9.497023219219583,-9.308623693907382,-9.62885212511394]}},\"id\":\"1e3da22a-fe4c-4826-a705-ae1119dd9824\",\"type\":\"ColumnDataSource\"}],\"root_ids\":[\"ae2f4e6d-6e58-483c-8f19-20697faa503f\"]},\"title\":\"Bokeh Application\",\"version\":\"0.12.5\"}};\n",
       "            var render_items = [{\"docid\":\"d920bf02-deb1-40b7-a2f8-875524fb0441\",\"elementid\":\"d658326f-940a-4ce8-b0f7-b9e34bcd3c06\",\"modelid\":\"ae2f4e6d-6e58-483c-8f19-20697faa503f\"}];\n",
       "            \n",
       "            Bokeh.embed.embed_items(docs_json, render_items);\n",
       "          };\n",
       "          if (document.readyState != \"loading\") fn();\n",
       "          else document.addEventListener(\"DOMContentLoaded\", fn);\n",
       "        })();\n",
       "      },\n",
       "      function(Bokeh) {\n",
       "      }\n",
       "    ];\n",
       "  \n",
       "    function run_inline_js() {\n",
       "      \n",
       "      if ((window.Bokeh !== undefined) || (force === true)) {\n",
       "        for (var i = 0; i < inline_js.length; i++) {\n",
       "          inline_js[i](window.Bokeh);\n",
       "        }if (force === true) {\n",
       "          display_loaded();\n",
       "        }} else if (Date.now() < window._bokeh_timeout) {\n",
       "        setTimeout(run_inline_js, 100);\n",
       "      } else if (!window._bokeh_failed_load) {\n",
       "        console.log(\"Bokeh: BokehJS failed to load within specified timeout.\");\n",
       "        window._bokeh_failed_load = true;\n",
       "      } else if (force !== true) {\n",
       "        var cell = $(document.getElementById(\"d658326f-940a-4ce8-b0f7-b9e34bcd3c06\")).parents('.cell').data().cell;\n",
       "        cell.output_area.append_execute_result(NB_LOAD_WARNING)\n",
       "      }\n",
       "  \n",
       "    }\n",
       "  \n",
       "    if (window._bokeh_is_loading === 0) {\n",
       "      console.log(\"Bokeh: BokehJS loaded, going straight to plotting\");\n",
       "      run_inline_js();\n",
       "    } else {\n",
       "      load_libs(js_urls, function() {\n",
       "        console.log(\"Bokeh: BokehJS plotting callback run at\", now());\n",
       "        run_inline_js();\n",
       "      });\n",
       "    }\n",
       "  }(this));\n",
       "</script>"
      ]
     },
     "metadata": {},
     "output_type": "display_data"
    }
   ],
   "source": [
    "elbo = []\n",
    "time = []\n",
    "def callback(args):\n",
    "    elbo.append(args['objective'])\n",
    "    time.append(args['time'])\n",
    "    print('elbo=' + str(elbo[-1]), 'time=' + str(time[-1]))\n",
    "    \n",
    "optimizer = amdtk.StochasticVBOptimizer(\n",
    "    dview, \n",
    "    data_stats, \n",
    "    {'epochs': 2,\n",
    "     'batch_size': 400,\n",
    "     'lrate': 0.01},\n",
    "    model\n",
    ")\n",
    "optimizer.run(train_fea, callback)\n",
    "\n",
    "fig1 = figure(\n",
    "    x_axis_label='time (s)', \n",
    "    y_axis_label='ELBO',\n",
    "    width=400, \n",
    "    height=400\n",
    ")\n",
    "x = np.arange(0, len(elbo), 1)\n",
    "fig1.line(x, elbo)\n",
    "\n",
    "show(fig1)"
   ]
  },
  {
   "cell_type": "markdown",
   "metadata": {},
   "source": [
    "## Decoding\n",
    "\n",
    "Once the model trained, the most likely sequence of units can be found as follow:"
   ]
  },
  {
   "cell_type": "code",
   "execution_count": 20,
   "metadata": {
    "collapsed": false
   },
   "outputs": [
    {
     "name": "stdout",
     "output_type": "stream",
     "text": [
      "[21, 8, 21, 14, 35, 8, 17, 10, 44, 35, 21, 24, 21, 6, 35]\n"
     ]
    }
   ],
   "source": [
    "data = amdtk.read_htk(train_fea[6])\n",
    "print(model.decode(data))"
   ]
  },
  {
   "cell_type": "markdown",
   "metadata": {},
   "source": [
    "It is also possible to output the most likely sequence of state of the phone-loop:"
   ]
  },
  {
   "cell_type": "code",
   "execution_count": 21,
   "metadata": {
    "collapsed": false
   },
   "outputs": [
    {
     "name": "stdout",
     "output_type": "stream",
     "text": [
      "[60, 60, 60, 60, 60, 60, 60, 60, 60, 60, 60, 60, 60, 60, 60, 60, 60, 60, 60, 60, 60, 60, 61, 62, 21, 22, 22, 22, 22, 22, 23, 60, 60, 60, 60, 60, 61, 62, 39, 39, 39, 39, 39, 39, 39, 39, 40, 41, 41, 41, 41, 41, 41, 41, 102, 102, 102, 102, 102, 102, 102, 102, 102, 103, 104, 21, 22, 22, 22, 22, 22, 22, 22, 23, 48, 49, 50, 50, 50, 50, 50, 50, 50, 50, 50, 27, 28, 29, 29, 129, 130, 130, 130, 130, 130, 130, 130, 130, 130, 130, 130, 130, 130, 130, 130, 130, 130, 130, 130, 130, 130, 130, 130, 130, 130, 130, 131, 102, 103, 104, 60, 60, 60, 60, 60, 60, 60, 60, 60, 60, 61, 62, 69, 69, 69, 69, 70, 71, 60, 60, 60, 60, 60, 60, 61, 62, 15, 16, 16, 16, 16, 16, 16, 16, 16, 16, 16, 16, 16, 16, 17, 102, 103, 104, 104, 104, 104, 104, 104, 104, 104]\n"
     ]
    }
   ],
   "source": [
    "print(model.decode(data, state_path=True))"
   ]
  },
  {
   "cell_type": "markdown",
   "metadata": {},
   "source": [
    "Everything is finished we shutdown the *ipyparallel* cluster."
   ]
  },
  {
   "cell_type": "code",
   "execution_count": null,
   "metadata": {
    "collapsed": false
   },
   "outputs": [],
   "source": [
    "%%bash\n",
    "ipcluster stop --profile default"
   ]
  }
 ],
 "metadata": {
  "kernelspec": {
   "display_name": "Python 3",
   "language": "python",
   "name": "python3"
  },
  "language_info": {
   "codemirror_mode": {
    "name": "ipython",
    "version": 3
   },
   "file_extension": ".py",
   "mimetype": "text/x-python",
   "name": "python",
   "nbconvert_exporter": "python",
   "pygments_lexer": "ipython3",
   "version": "3.6.0"
  }
 },
 "nbformat": 4,
 "nbformat_minor": 2
}

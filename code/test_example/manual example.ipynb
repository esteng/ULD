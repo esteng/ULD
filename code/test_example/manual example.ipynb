{
 "cells": [
  {
   "cell_type": "markdown",
   "metadata": {},
   "source": [
    "Define a tiny example (4 frames) with reduced distributions:\n",
    "- dirichlet over operations: $[1,1,1,2,1]$\n",
    "- hmm: 3 states, 2 units \n",
    "- gmm: 1 1d component\n",
    "\n"
   ]
  },
  {
   "cell_type": "code",
   "execution_count": 60,
   "metadata": {},
   "outputs": [
    {
     "name": "stdout",
     "output_type": "stream",
     "text": [
      "[[ -0.91893853  -1.41893853  -2.91893853  -8.91893853 -13.41893853\n",
      "  -18.91893853]\n",
      " [ -2.91893853  -1.41893853  -0.91893853  -2.91893853  -5.41893853\n",
      "   -8.91893853]\n",
      " [-13.41893853  -8.91893853  -5.41893853  -1.41893853  -0.91893853\n",
      "   -1.41893853]\n",
      " [-18.91893853 -13.41893853  -8.91893853  -2.91893853  -1.41893853\n",
      "   -0.91893853]]\n"
     ]
    }
   ],
   "source": [
    "import numpy as np\n",
    "import amdtk\n",
    "import subprocess\n",
    "import scipy\n",
    "from scipy.stats import norm \n",
    "\n",
    "\n",
    "alphas = np.array([1,1,1,2,1])\n",
    "# we need n_bottom_plus * n_hmm_states * n_components gaussians\n",
    "# so that's 2*3*1 = 6 gaussians \n",
    "# \n",
    "mus = np.array([-3,-2,-1,1,2,3])\n",
    "# let's make all variances same\n",
    "sigmas = np.array([1,1,1,1,1,1])\n",
    "\n",
    "t = np.array([[.5, .5, 0,0,0,0],\n",
    " [0,.5,.5,0,0,0,0],\n",
    " [0,0,.5,.5,0,0,0],\n",
    " [0,0,0,.5,.5,0,0],\n",
    " [.5,0,0,0,0,0,.5]])\n",
    "\n",
    "data = np.array([-3,-1,2,3])\n",
    "tops = np.array([0,1])\n",
    "\n",
    "# state_llh is (n_frames, n_states * n_plus)\n",
    "# so that's (4, 6) \n",
    "state_llh = np.log(np.array([[norm.pdf(x, mus[i], sigmas[i]) for i in range(6)] for x in data]))\n",
    "print(state_llh)"
   ]
  },
  {
   "cell_type": "code",
   "execution_count": 62,
   "metadata": {},
   "outputs": [
    {
     "name": "stdout",
     "output_type": "stream",
     "text": [
      "[-2.08333333 -2.08333333 -2.08333333 -2.08333333 -2.08333333]\n",
      "[-2.08333333 -2.08333333 -2.08333333 -2.08333333 -2.08333333]\n",
      "prob_it 0.124514471444\n",
      "prob_ib [ 0.12451447  0.12451447]\n",
      "prob_sub [ 0.12451447  0.12451447]\n",
      "(0, 0, 0, 0, 0, -1) 0.0496740871809\n",
      "(0, 0, 1, 0, 0, -1) 1.66637998244e-05\n",
      "(-1, 2, 0, -1, 1, 0) 0.124514471444\n",
      "(0, 0, 0, 0, 2, 0) 0.0496740871809\n",
      "(0, 0, 1, 0, 2, 0) 1.66637998244e-05\n"
     ]
    }
   ],
   "source": [
    "\n",
    "model = amdtk.PhoneLoopNoisyChannel.create(\n",
    "    n_units=2,  # number of acoustic units\n",
    "    n_states=3,   # number of states per unit\n",
    "    n_comp_per_state=1,   # number of Gaussians per emission\n",
    "    n_top_units=2, # size of top PLU alphabet\n",
    "    mean=np.zeros_like(mus), \n",
    "    var=np.ones_like(sigmas),\n",
    "    max_slip_factor=.05\n",
    "    #concentration=conc\n",
    ")\n",
    "\n",
    "log_prob_it = model.op_latent_posteriors[tops[0]].grad_log_partition[0]\n",
    "log_prob_ib = model.op_latent_posteriors[tops[0]].grad_log_partition[1:model.n_units+1]\n",
    "log_prob_sub = model.op_latent_posteriors[tops[0]].grad_log_partition[model.n_units+1:]\n",
    "print(\"prob_it\", np.exp(log_prob_it))\n",
    "print(\"prob_ib\", np.exp(log_prob_ib))\n",
    "print(\"prob_sub\", np.exp(log_prob_sub))\n",
    "\n",
    "\n",
    "\n",
    "# ((frame_index, hmm_state, plu_bottom_type, plu_bottom_index, edit_op, plu_top_index), p)\n",
    "starts = model.generate_start_items(tops, state_llh)\n",
    "for tup, prob in starts:\n",
    "    print(tup, np.exp(prob))\n",
    "\n",
    "\n",
    "\n",
    "\n",
    "\n",
    "    "
   ]
  },
  {
   "cell_type": "code",
   "execution_count": 66,
   "metadata": {},
   "outputs": [
    {
     "name": "stdout",
     "output_type": "stream",
     "text": [
      "[((1, 0, 0, 0, 3, -1), -6.6143575803026238), ((1, 1, 0, 0, 3, -1), -5.1143575803026238)]\n",
      "for state 0\n",
      "[((1, 0, 1, 0, 3, -1), -14.614357580302624), ((1, 1, 1, 0, 3, -1), -17.11435758030262)]\n",
      "for state 1\n",
      "[((0, 0, 0, 0, 0, 0), -5.7787523804312837), ((0, 0, 1, 0, 0, 0), -13.778752380431284), ((0, 0, 0, 0, 2, 1), -5.7787523804312837), ((0, 0, 1, 0, 2, 1), -13.778752380431284)]\n",
      "for state 2\n",
      "[((1, 0, 0, 0, 3, 0), -6.6143575803026238), ((1, 1, 0, 0, 3, 0), -5.1143575803026238)]\n",
      "for state 3\n",
      "[((1, 0, 1, 0, 3, 0), -14.614357580302624), ((1, 1, 1, 0, 3, 0), -17.11435758030262)]\n",
      "for state 4\n"
     ]
    }
   ],
   "source": [
    "# next_states(self, current_state, plu_tops, state_llh, max_slip, frames_per_top, log05, logging):\n",
    "for i, state in enumerate(starts):\n",
    "    nexts = model.next_states(state, tops, state_llh, .05, 2, np.log(.5), False)\n",
    "    print(nexts)\n",
    "    print(\"for state\", i)"
   ]
  },
  {
   "cell_type": "code",
   "execution_count": null,
   "metadata": {},
   "outputs": [],
   "source": []
  }
 ],
 "metadata": {
  "kernelspec": {
   "display_name": "Python 3",
   "language": "python",
   "name": "python3"
  },
  "language_info": {
   "codemirror_mode": {
    "name": "ipython",
    "version": 3
   },
   "file_extension": ".py",
   "mimetype": "text/x-python",
   "name": "python",
   "nbconvert_exporter": "python",
   "pygments_lexer": "ipython3",
   "version": "3.5.4"
  }
 },
 "nbformat": 4,
 "nbformat_minor": 2
}

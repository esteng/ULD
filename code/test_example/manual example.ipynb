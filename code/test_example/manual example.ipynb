{
 "cells": [
  {
   "cell_type": "markdown",
   "metadata": {},
   "source": [
    "Define a tiny example (4 frames) with reduced distributions:\n",
    "- dirichlet over operations: $[1,1,1,2,1]$\n",
    "- hmm: 3 states, 2 units \n",
    "- gmm: 1 1d component\n",
    "\n"
   ]
  },
  {
   "cell_type": "code",
   "execution_count": 6,
   "metadata": {},
   "outputs": [],
   "source": [
    "import numpy as np\n",
    "import amdtk\n",
    "import subprocess\n",
    "\n",
    "\n",
    "\n",
    "\n",
    "alphas = np.array([1,1,1,2,1])\n",
    "\n",
    "mus = np.array([-2, 2])\n",
    "sigmas = np.array([1,1])\n",
    "\n",
    "t = np.array([[.5, .5, 0,0,0,0],\n",
    " [0,.5,.5,0,0,0,0],\n",
    " [0,0,.5,.5,0,0,0],\n",
    " [0,0,0,.5,.5,0,0],\n",
    " [.5,0,0,0,0,0,.5]])\n",
    "\n",
    "data = np.array([-3,-1,2,3])\n",
    "tops = np.array([0,1])\n",
    "\n",
    "\n",
    "state_llh = []\n"
   ]
  },
  {
   "cell_type": "code",
   "execution_count": 5,
   "metadata": {},
   "outputs": [
    {
     "name": "stdout",
     "output_type": "stream",
     "text": [
      "[-2.08333333 -2.08333333 -2.08333333 -2.08333333 -2.08333333]\n",
      "[-2.08333333 -2.08333333 -2.08333333 -2.08333333 -2.08333333]\n"
     ]
    },
    {
     "ename": "AttributeError",
     "evalue": "'PhoneLoopNoisyChannel' object has no attribute 'mean'",
     "output_type": "error",
     "traceback": [
      "\u001b[0;31m---------------------------------------------------------------------------\u001b[0m",
      "\u001b[0;31mAttributeError\u001b[0m                            Traceback (most recent call last)",
      "\u001b[0;32m<ipython-input-5-58b9ad5392bd>\u001b[0m in \u001b[0;36m<module>\u001b[0;34m()\u001b[0m\n\u001b[1;32m     11\u001b[0m )\n\u001b[1;32m     12\u001b[0m \u001b[0;34m\u001b[0m\u001b[0m\n\u001b[0;32m---> 13\u001b[0;31m \u001b[0mmodel\u001b[0m\u001b[0;34m.\u001b[0m\u001b[0mmean\u001b[0m\u001b[0;34m.\u001b[0m\u001b[0mshape\u001b[0m\u001b[0;34m\u001b[0m\u001b[0m\n\u001b[0m\u001b[1;32m     14\u001b[0m \u001b[0;34m\u001b[0m\u001b[0m\n\u001b[1;32m     15\u001b[0m \u001b[0;34m\u001b[0m\u001b[0m\n",
      "\u001b[0;31mAttributeError\u001b[0m: 'PhoneLoopNoisyChannel' object has no attribute 'mean'"
     ]
    }
   ],
   "source": [
    "\n",
    "model = amdtk.PhoneLoopNoisyChannel.create(\n",
    "    n_units=2,  # number of acoustic units\n",
    "    n_states=3,   # number of states per unit\n",
    "    n_comp_per_state=1,   # number of Gaussians per emission\n",
    "    n_top_units=2, # size of top PLU alphabet\n",
    "    mean=np.zeros_like(mus), \n",
    "    var=np.ones_like(sigmas),\n",
    "    max_slip_factor=.05\n",
    "    #concentration=conc\n",
    ")\n",
    "\n",
    "model.generate_start_items(tops, )\n",
    "\n",
    "\n",
    "\n",
    "\n"
   ]
  },
  {
   "cell_type": "code",
   "execution_count": null,
   "metadata": {},
   "outputs": [],
   "source": []
  }
 ],
 "metadata": {
  "kernelspec": {
   "display_name": "Python 3",
   "language": "python",
   "name": "python3"
  },
  "language_info": {
   "codemirror_mode": {
    "name": "ipython",
    "version": 3
   },
   "file_extension": ".py",
   "mimetype": "text/x-python",
   "name": "python",
   "nbconvert_exporter": "python",
   "pygments_lexer": "ipython3",
   "version": "3.5.4"
  }
 },
 "nbformat": 4,
 "nbformat_minor": 2
}

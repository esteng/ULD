{
 "cells": [
  {
   "cell_type": "code",
   "execution_count": 1,
   "metadata": {},
   "outputs": [],
   "source": [
    "import numpy as np"
   ]
  },
  {
   "cell_type": "markdown",
   "metadata": {},
   "source": [
    "- we need to start with a top level string \n",
    "- do some edit operations to get bottom level\n",
    "- have each bottom level type index a 3-state hmm\n",
    "- for each 3 state hmm\n",
    "\t- sample some transitions etc \n",
    "\t- have each state index a GMM\n",
    "\t- each GMM generate a 2-dimensional vector \n",
    "    \n",
    "- input: top level string\n",
    "- parameters we need to specify: \n",
    "\t- edit operation parameters\n",
    "\t\t- ins_top (1)\n",
    "\t\t- ins_bot (n)\n",
    "\t\t- sub (n) \n",
    "\t- hmm \n",
    "\t\t- initial (3)\n",
    "\t\t- transition (3x3)\n",
    "\t\t- emission (3xm)\n",
    "    - GMM\n",
    "\t\t- num of components \n",
    "\t\t- mean, variance for each component \n",
    "\t\t- mixture proportions "
   ]
  },
  {
   "cell_type": "markdown",
   "metadata": {},
   "source": [
    "for simplicity, let's make all top level strings 10 characters long.\n",
    "let's have a 4 character alphabet "
   ]
  },
  {
   "cell_type": "code",
   "execution_count": 2,
   "metadata": {},
   "outputs": [],
   "source": [
    "top_alphabet = [0,1,2,3]"
   ]
  },
  {
   "cell_type": "markdown",
   "metadata": {},
   "source": [
    " let's have 1 more bottom level PLU\n",
    "\n"
   ]
  },
  {
   "cell_type": "code",
   "execution_count": 3,
   "metadata": {},
   "outputs": [],
   "source": [
    "bot_alphabet = [0,1,2,3,4]"
   ]
  },
  {
   "cell_type": "markdown",
   "metadata": {},
   "source": [
    "Now we get some random sequences of top letters that represent a top alphabet"
   ]
  },
  {
   "cell_type": "code",
   "execution_count": 4,
   "metadata": {},
   "outputs": [],
   "source": [
    "top_strings = np.random.choice(top_alphabet, (100, 10))"
   ]
  },
  {
   "cell_type": "markdown",
   "metadata": {},
   "source": [
    "Now we define prob distributions over ins, sub, del, and sample edit operations "
   ]
  },
  {
   "cell_type": "code",
   "execution_count": 11,
   "metadata": {},
   "outputs": [
    {
     "name": "stdout",
     "output_type": "stream",
     "text": [
      "[ 0.00460564  0.00115141  0.00230282  0.00115141  0.00921128  0.00460564\n",
      "  0.2302821   0.00690846  0.00921128  0.00230282  0.00115141  0.2302821\n",
      "  0.00460564  0.00460564  0.00460564  0.00172712  0.2302821   0.00690846\n",
      "  0.00690846  0.00460564  0.00230282  0.2302821 ]\n"
     ]
    }
   ],
   "source": [
    "ins_top = [2]\n",
    "ins_bot = [.5,1,.5,4,2]\n",
    "sub = [[100, 3, 4, 1],\n",
    "      [.5, 100, 2, 2],\n",
    "      [2, .75, 100, 3],\n",
    "      [3,2,1,100]]\n",
    "\n",
    "\n",
    "full_dir = np.array(ins_top + ins_bot + sub[0] + sub[1] + sub[2] + sub[3], dtype=np.float64)\n",
    "# normalize \n",
    "full_dir = full_dir/np.sum(full_dir)\n",
    "print(full_dir)\n"
   ]
  },
  {
   "cell_type": "code",
   "execution_count": 17,
   "metadata": {},
   "outputs": [
    {
     "name": "stdout",
     "output_type": "stream",
     "text": [
      "[3 1 2 1 2 2 0 3 1 2]\n",
      "[3 2 2 2 2 2 2 0 0 2]\n",
      "10\n"
     ]
    }
   ],
   "source": [
    "bottom_strings = []\n",
    "i = 0\n",
    "while i < len(top_strings):\n",
    "    ts = top_strings[i]\n",
    "    j = 0\n",
    "    bs = []\n",
    "    while j < len(ts):\n",
    "#         sample some edit operation\n",
    "        eo = np.argmax(np.random.multinomial(1, full_dir))\n",
    "        if eo == 0:\n",
    "#             insert top, do nothing\n",
    "            j+=1\n",
    "        elif eo >= 1 and eo <= 5:\n",
    "            bc = bot_alphabet[eo-1]\n",
    "            bs.append(bc)\n",
    "            continue\n",
    "        else:\n",
    "#             sub\n",
    "            bc = bot_alphabet[(eo-5)%4] \n",
    "            bs.append(bc)\n",
    "            j+=1\n",
    "    i+=1\n",
    "    bottom_strings.append(bs)\n"
   ]
  },
  {
   "cell_type": "markdown",
   "metadata": {},
   "source": [
    "Let's define the HMM/GMM parameters"
   ]
  },
  {
   "cell_type": "code",
   "execution_count": 18,
   "metadata": {},
   "outputs": [],
   "source": [
    "init = [1/3, 1/3, 1/3]\n",
    "transition = [[.5, .25, .25],\n",
    "             [.25, .5, .25],\n",
    "             [.5, 0, .5]]\n",
    "\n",
    "components = [[.7,.3],\n",
    "             [.9,.1],\n",
    "             [.3,.7]]\n",
    "\n",
    "n1 = [[0,0], [[1,0],[0,1]]]\n",
    "n2 = [[10, 10], [[1,0],[0,1]]]\n"
   ]
  },
  {
   "cell_type": "code",
   "execution_count": 19,
   "metadata": {},
   "outputs": [],
   "source": [
    "def sample_HMMGMM(bot_string):\n",
    "    mfccs = []\n",
    "    for i, char in bottom_string:\n",
    "        start_state = np.random.choice([0,1,2], p=init)\n",
    "        curr_state = start_state\n",
    "#       get the mfcc vector and transition\n",
    "        \n",
    "        \n",
    "        while True:\n",
    "            vec = components[curr_state][0]*np.random.multivariate_normal(*n1) + \\\n",
    "                    components[curr_state][1]*np.random.multivariate_normal(*n2)\n",
    "            mfccs.append[vec]\n",
    "            new_curr_state = np.random.choice([0,1,2], p=transition[curr_state])\n",
    "            if curr_state == 2 and new_curr_state == 1:\n",
    "                break\n",
    "    #         get the mfcc vector and transition\n",
    "            curr_state = new_curr_state\n",
    "        \n",
    "        \n",
    "        \n",
    "        "
   ]
  },
  {
   "cell_type": "code",
   "execution_count": null,
   "metadata": {},
   "outputs": [],
   "source": []
  }
 ],
 "metadata": {
  "kernelspec": {
   "display_name": "Python 3",
   "language": "python",
   "name": "python3"
  },
  "language_info": {
   "codemirror_mode": {
    "name": "ipython",
    "version": 3
   },
   "file_extension": ".py",
   "mimetype": "text/x-python",
   "name": "python",
   "nbconvert_exporter": "python",
   "pygments_lexer": "ipython3",
   "version": "3.5.4"
  }
 },
 "nbformat": 4,
 "nbformat_minor": 2
}

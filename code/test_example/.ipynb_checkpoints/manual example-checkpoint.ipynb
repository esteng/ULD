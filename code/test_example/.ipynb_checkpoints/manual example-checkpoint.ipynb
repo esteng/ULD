{
 "cells": [
  {
   "cell_type": "markdown",
   "metadata": {},
   "source": [
    "Define a tiny example (4 frames) with reduced distributions:\n",
    "- dirichlet over operations: $[1,1,1,2,1]$\n",
    "- hmm: 3 states, 2 units \n",
    "- gmm: 1 1d component\n",
    "\n"
   ]
  },
  {
   "cell_type": "code",
   "execution_count": 2,
   "metadata": {},
   "outputs": [
    {
     "name": "stdout",
     "output_type": "stream",
     "text": [
      "INSIDE INIT\n",
      "SUCCESSFUL IMPORT IN INIT\n"
     ]
    }
   ],
   "source": [
    "import numpy as np\n",
    "import amdtk\n",
    "import subprocess\n",
    "\n",
    "\n",
    "\n",
    "\n",
    "alphas = np.array([1,1,1,2,1])\n",
    "\n",
    "mus = np.array([-2, 2])\n",
    "sigmas = np.array([1,1])\n",
    "\n",
    "t = np.array([[.5, .5, 0,0,0,0],\n",
    " [0,.5,.5,0,0,0,0],\n",
    " [0,0,.5,.5,0,0,0],\n",
    " [0,0,0,.5,.5,0,0],\n",
    " [.5,0,0,0,0,0,.5]])\n",
    "\n",
    "data = np.array([-3,-1,2,3])\n",
    "top = np.array([0,1])\n",
    "\n",
    "\n",
    "\n"
   ]
  },
  {
   "cell_type": "code",
   "execution_count": null,
   "metadata": {},
   "outputs": [],
   "source": [
    "print(\"starting engines\")\n",
    "subprocess.Popen(['ipcluster', 'start',' --profile', 'default',' -n', '4', '--daemonize'])\n",
    "subprocess.Popen(['sleep', '10']).communicate()\n",
    "\n",
    "\n",
    "rc = Client(profile='default')\n",
    "dview = rc[:]\n",
    "print('Connected to', len(dview), 'jobs.')\n",
    "\n",
    "\n",
    "model = amdtk.PhoneLoopNoisyChannel.create(\n",
    "    n_units=2,  # number of acoustic units\n",
    "    n_states=3,   # number of states per unit\n",
    "    n_comp_per_state=1,   # number of Gaussians per emission\n",
    "    n_top_units=2, # size of top PLU alphabet\n",
    "    mean=np.zeros_like(mus), \n",
    "    var=np.ones_like(sigmas),\n",
    "    max_slip_factor=.05\n",
    "    #concentration=conc\n",
    ")\n",
    "\n",
    "\n",
    "\n",
    "\n",
    "\n"
   ]
  }
 ],
 "metadata": {
  "kernelspec": {
   "display_name": "Python 3",
   "language": "python",
   "name": "python3"
  },
  "language_info": {
   "codemirror_mode": {
    "name": "ipython",
    "version": 3
   },
   "file_extension": ".py",
   "mimetype": "text/x-python",
   "name": "python",
   "nbconvert_exporter": "python",
   "pygments_lexer": "ipython3",
   "version": "3.5.4"
  }
 },
 "nbformat": 4,
 "nbformat_minor": 2
}
